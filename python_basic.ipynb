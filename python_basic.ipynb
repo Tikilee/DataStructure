{
 "cells": [
  {
   "cell_type": "markdown",
   "metadata": {},
   "source": [
    "# Python Basic Knowledge"
   ]
  },
  {
   "cell_type": "markdown",
   "metadata": {},
   "source": [
    "# 1. Basic Data Types and Structures"
   ]
  },
  {
   "cell_type": "markdown",
   "metadata": {},
   "source": [
    "## 1.1 Data Types"
   ]
  },
  {
   "cell_type": "markdown",
   "metadata": {},
   "source": [
    "## 1.2 Data Structures"
   ]
  },
  {
   "cell_type": "markdown",
   "metadata": {},
   "source": [
    "### 1.2.1 Str"
   ]
  },
  {
   "cell_type": "markdown",
   "metadata": {},
   "source": [
    "### 1.2.2 List"
   ]
  },
  {
   "cell_type": "markdown",
   "metadata": {},
   "source": [
    "* 函数\n",
    "    - cmp(list1, list2)\n",
    "    - len(list)\n",
    "    - max(list)\n",
    "    - min(list)\n",
    "    - list(seq) 将元组转成列表\n",
    "* 方法\n",
    "    - list.append(obj)\n",
    "    - list.count(obj) 统计在列表中出现obj的次数\n",
    "    - list.extend(seq) 将list/set追加在列表尾端\n",
    "    - list.index(obj) 查找第一个obj\n",
    "    - list.insert(index, obj) 在index插入obj\n",
    "    - list.pop([index=-1]) 默认删除最后一个并返回删除值\n",
    "    - list.remove(obj) 删除第一个obj\n",
    "    - list.reverse() 反转\n",
    "    - list.sort(reverse=False) 排序"
   ]
  },
  {
   "cell_type": "code",
   "execution_count": 176,
   "metadata": {},
   "outputs": [
    {
     "name": "stdout",
     "output_type": "stream",
     "text": [
      "5 [0, 1, 2, 3, 4]\n"
     ]
    }
   ],
   "source": [
    "alist = [0, 1, 2, 3, 4, 5]\n",
    "pop_value = alist.pop()\n",
    "print(pop_value, alist)\n",
    "\n",
    "\n",
    "\n"
   ]
  },
  {
   "cell_type": "markdown",
   "metadata": {},
   "source": [
    "### 1.2.3 Dict"
   ]
  },
  {
   "cell_type": "markdown",
   "metadata": {},
   "source": [
    "* 函数\n",
    "    - cmp(dict1, dict2)\n",
    "    - len(dict)\n",
    "    - str(dict)\n",
    "* 方法\n",
    "    - dict.clear()\n",
    "    - dict.copy()\n",
    "    - dict.keys() return [key1, key2, ...]\n",
    "    - dict.values() return [value1, value2, ...]\n",
    "    - dict.items() return [(key1, value1), (key2, value2)...]\n",
    "    - dict.update(dict2)\n",
    "    - pop(key) 删除给定key的键值并返回值\n",
    "    - popitem() 返并删除字典最后一对键值"
   ]
  },
  {
   "cell_type": "code",
   "execution_count": null,
   "metadata": {},
   "outputs": [],
   "source": []
  },
  {
   "cell_type": "markdown",
   "metadata": {},
   "source": [
    "# 2. Contol Structures"
   ]
  },
  {
   "cell_type": "markdown",
   "metadata": {},
   "source": [
    "**if-else**"
   ]
  },
  {
   "cell_type": "code",
   "execution_count": null,
   "metadata": {},
   "outputs": [],
   "source": [
    "a = 1\n",
    "b = 2\n",
    "if a > b:\n",
    "    print('a > b')\n",
    "elif a == b:\n",
    "    print('a = b')\n",
    "else:\n",
    "    print('a < b')            "
   ]
  },
  {
   "cell_type": "markdown",
   "metadata": {},
   "source": [
    "**for**"
   ]
  },
  {
   "cell_type": "code",
   "execution_count": null,
   "metadata": {},
   "outputs": [],
   "source": [
    "for item in [1,3,6,2,5]:\n",
    "    print(item)"
   ]
  },
  {
   "cell_type": "markdown",
   "metadata": {},
   "source": [
    "**while**"
   ]
  },
  {
   "cell_type": "code",
   "execution_count": null,
   "metadata": {},
   "outputs": [],
   "source": [
    "counter = 0\n",
    "while counter < 10:\n",
    "    counter += 1\n",
    "print(counter)"
   ]
  },
  {
   "cell_type": "markdown",
   "metadata": {},
   "source": [
    "**break**  \n",
    "用来打破最小循环(直接跳出整个循环)  \n",
    "**continue**  \n",
    "跳出本次循环  \n",
    "**pass**  \n",
    "占位语句, 不做任何操作"
   ]
  },
  {
   "cell_type": "code",
   "execution_count": null,
   "metadata": {},
   "outputs": [],
   "source": []
  }
 ],
 "metadata": {
  "language_info": {
   "name": "python"
  },
  "orig_nbformat": 4
 },
 "nbformat": 4,
 "nbformat_minor": 2
}
