{
 "cells": [
  {
   "cell_type": "markdown",
   "metadata": {},
   "source": [
    "# Python Basic Knowledge"
   ]
  },
  {
   "cell_type": "markdown",
   "metadata": {},
   "source": [
    "# 1. Basic Data Types and Structures"
   ]
  },
  {
   "cell_type": "markdown",
   "metadata": {},
   "source": [
    "## 1.1 Data Types"
   ]
  },
  {
   "cell_type": "markdown",
   "metadata": {},
   "source": [
    "### 1.1.1 Str"
   ]
  },
  {
   "cell_type": "markdown",
   "metadata": {},
   "source": [
    "* 字符串可以遍历\n",
    "* 切片时, 字符串末尾如果超过最大长度，则会返回至字符串最后一个值，这个特性可以避免一些边界条件的处理\n",
    "* 转义字符\n",
    "    - `\\` 续行符\n",
    "    - `\\\\` 反斜杠\n",
    "    - `\\'`\n",
    "    - `\\\"`\n",
    "    - `\\a` 响铃\n",
    "    - `\\b` 退格\n",
    "    - `\\e` 转义\n",
    "    - `\\n` 换行\n",
    "    - `\\v` 纵向制表符\n",
    "    - `\\t` 横向制表符\n",
    "    - `\\r` 回车\n",
    "    - `\\f` 换页\n",
    "* 字符串运算符\n",
    "    - `+` 字符串连接\n",
    "    - `*` 重复输出字符串. eg: 'Hello'*2 == 'HelloHello'\n",
    "    - `r''` 所有的字符串都是直接按照字面的意思来使用, 不需要额外转义\n",
    "    - `%` 格式化字符串\n",
    "* 内建函数\n",
    "    - `string.count(str, beg=0, end=len(string))`\n",
    "    - `string.join(seq)` 以 string 作为分隔符，将 seq 中所有的元素(的字符串表示)合并为一个新的字符串\n",
    "    - `string.replace(str1, str2,  num=string.count(str1))` 把 string 中的 str1 替换成 str2,如果 num 指定，则替换不超过 num 次.\n",
    "    - `string.split(str=\"\", num=string.count(str))` 以 str 为分隔符切片 string(分隔后不包含str)，如果 num 有指定值，则仅分隔 num+1 个子字符串\n",
    "    - `string.strip([obj])` 在 string 上执行 lstrip()和 rstrip() (截掉 string 左/右边的空格)"
   ]
  },
  {
   "cell_type": "code",
   "execution_count": 34,
   "metadata": {},
   "outputs": [
    {
     "name": "stdout",
     "output_type": "stream",
     "text": [
      "a\n",
      "re\n",
      "a\n",
      "d\n",
      "o\n",
      "r\n",
      "e\n"
     ]
    }
   ],
   "source": [
    "str_a = 'adore'\n",
    "print(str_a[0])\n",
    "# print(str_a[5]) # 报错\n",
    "print(str_a[3: 100])\n",
    "for i in str_a:\n",
    "    print(i)\n",
    "    \n",
    "# temp = str_a[0]\n",
    "# str_a[0] = str_a[1]\n",
    "# str_a[1] = temp\n",
    "# print(str_a)\n"
   ]
  },
  {
   "cell_type": "code",
   "execution_count": 27,
   "metadata": {},
   "outputs": [
    {
     "name": "stdout",
     "output_type": "stream",
     "text": [
      "3\n",
      "['a', 'b', 'c']\n",
      "9\n",
      "['g', 'h']\n",
      "cbadefhg\n"
     ]
    }
   ],
   "source": [
    "def reverseStr(s: str, k: int) -> str:\n",
    "        ret, lg = list(s), len(s)\n",
    "        for i in range(0, len(s), 2 * k):\n",
    "            print(i+k)\n",
    "            print(ret[i:i + k])\n",
    "            ret[i:i + k] = reversed(ret[i:i + k])\n",
    "        return ''.join(ret)\n",
    "\n",
    "s = 'abcdefgh'\n",
    "k = 3\n",
    "print(reverseStr(s, k))"
   ]
  },
  {
   "cell_type": "markdown",
   "metadata": {},
   "source": [
    "#### 1.1.1.1  字符串的格式化输出\n",
    "<img src=\"img/python_basic/str_format_1.png\" width = \"75%\" />  \n",
    "<img src=\"img/python_basic/str_format_2.png\" width = \"75%\" />  \n",
    "<img src=\"img/python_basic/str_format_3.png\" width = \"75%\" />  "
   ]
  },
  {
   "cell_type": "markdown",
   "metadata": {},
   "source": [
    "**正则表达式**"
   ]
  },
  {
   "cell_type": "markdown",
   "metadata": {},
   "source": [
    "## 1.2 Data Structure"
   ]
  },
  {
   "cell_type": "markdown",
   "metadata": {},
   "source": [
    "### 1.2.1 Set\n",
    "* 定义: 无序的不重复元素序列\n",
    "* 可用如下方式表示:\n",
    "    - `parame = {value01,value02,...}`\n",
    "    - `set(value)` ps.空集合必须用`set()`\n",
    "* 方法\n",
    "    - `set.add()`\n",
    "    - `set.remove()` remove的元素必须存在\n",
    "    - `set.discard()` diacard的元素可以不存在\n",
    "    - `len(s)`\n",
    "* 判断元素是否存在\n",
    "    - `in set` \n",
    "    - `not in set`"
   ]
  },
  {
   "cell_type": "code",
   "execution_count": 15,
   "metadata": {},
   "outputs": [
    {
     "name": "stdout",
     "output_type": "stream",
     "text": [
      "{'m', 'a'}\n",
      "{'h', 'p', 's', 'm', 'a'}\n",
      "{'p', 's'} {'h'}\n"
     ]
    }
   ],
   "source": [
    "x = set('spam') \n",
    "x1 = set(['spam']) \n",
    "y = set(['h','a','m'])\n",
    "# print(x, x1, y)\n",
    "\n",
    "# intersection\n",
    "print(x & y)\n",
    "# union\n",
    "print(x | y)\n",
    "# different\n",
    "print(x - y, y - x)"
   ]
  },
  {
   "cell_type": "markdown",
   "metadata": {},
   "source": [
    "### 1.2.2 List"
   ]
  },
  {
   "cell_type": "markdown",
   "metadata": {},
   "source": [
    "* 函数\n",
    "    - cmp(list1, list2)\n",
    "    - len(list)\n",
    "    - max(list)\n",
    "    - min(list)\n",
    "    - list(seq) 将元组转成列表\n",
    "* 方法\n",
    "    - list.append(obj)\n",
    "    - list.count(obj) 统计在列表中出现obj的次数\n",
    "    - list.extend(seq) 将list/set追加在列表尾端\n",
    "    - list.index(obj) 查找第一个obj\n",
    "    - list.insert(index, obj) 在index插入obj\n",
    "    - list.pop([index=-1]) 默认删除最后一个并返回删除值\n",
    "    - list.remove(obj) 删除第一个obj\n",
    "    - list.reverse() 反转\n",
    "    - list.sort(reverse=False) 排序, 从小到大"
   ]
  },
  {
   "cell_type": "code",
   "execution_count": 35,
   "metadata": {},
   "outputs": [
    {
     "name": "stdout",
     "output_type": "stream",
     "text": [
      "[0, 1, 2, 3, 4, 5]\n",
      "5 [0, 1, 2, 3, 4]\n",
      "[0, 1, 2, 3, 4]\n"
     ]
    }
   ],
   "source": [
    "alist = [0, 1, 2, 3, 4, 5]\n",
    "\n",
    "# print(alist[100]) # 报错\n",
    "print(alist[:100])\n",
    "\n",
    "pop_value = alist.pop()\n",
    "print(pop_value, alist)\n",
    "\n",
    "alist.sort()\n",
    "print(alist)\n",
    "\n"
   ]
  },
  {
   "cell_type": "markdown",
   "metadata": {},
   "source": [
    "### 1.2.3 Dict"
   ]
  },
  {
   "cell_type": "markdown",
   "metadata": {},
   "source": [
    "* 函数\n",
    "    - cmp(dict1, dict2)\n",
    "    - len(dict)\n",
    "    - str(dict)\n",
    "* 方法\n",
    "    - dict.clear()\n",
    "    - dict.copy()\n",
    "    - dict.keys() return [key1, key2, ...]\n",
    "    - dict.values() return [value1, value2, ...]\n",
    "    - dict.items() return [(key1, value1), (key2, value2)...]\n",
    "    - dict.update(dict2)\n",
    "    - pop(key) 删除给定key的键值并返回值\n",
    "    - popitem() 返并删除字典最后一对键值"
   ]
  },
  {
   "cell_type": "markdown",
   "metadata": {},
   "source": [
    "Notice: Python3.6及以后版本的dict key是有序的, 即dict返回顺序和存储顺序相同"
   ]
  },
  {
   "cell_type": "code",
   "execution_count": 7,
   "metadata": {},
   "outputs": [
    {
     "name": "stdout",
     "output_type": "stream",
     "text": [
      "True\n",
      "dict_keys(['one', 'two', 'three'])\n",
      "one\n",
      "two\n",
      "three\n"
     ]
    }
   ],
   "source": [
    "dict_a = {'one': 1, 'two': 2, 'three': 3}\n",
    "dict_b = { 'three': 3, 'one': 1, 'two': 2}\n",
    "print(dict_a == dict_b)\n",
    "\n",
    "print(dict_a.keys())\n",
    "for i in dict_a.keys():\n",
    "    print(i)"
   ]
  },
  {
   "cell_type": "markdown",
   "metadata": {},
   "source": [
    "# 2. Contol Structures"
   ]
  },
  {
   "cell_type": "markdown",
   "metadata": {},
   "source": [
    "**if-else**"
   ]
  },
  {
   "cell_type": "code",
   "execution_count": null,
   "metadata": {},
   "outputs": [],
   "source": [
    "a = 1\n",
    "b = 2\n",
    "if a > b:\n",
    "    print('a > b')\n",
    "elif a == b:\n",
    "    print('a = b')\n",
    "else:\n",
    "    print('a < b')            "
   ]
  },
  {
   "cell_type": "markdown",
   "metadata": {},
   "source": [
    "**for**"
   ]
  },
  {
   "cell_type": "code",
   "execution_count": null,
   "metadata": {},
   "outputs": [],
   "source": [
    "for item in [1,3,6,2,5]:\n",
    "    print(item)"
   ]
  },
  {
   "cell_type": "markdown",
   "metadata": {},
   "source": [
    "**while**"
   ]
  },
  {
   "cell_type": "code",
   "execution_count": null,
   "metadata": {},
   "outputs": [],
   "source": [
    "counter = 0\n",
    "while counter < 10:\n",
    "    counter += 1\n",
    "print(counter)"
   ]
  },
  {
   "cell_type": "markdown",
   "metadata": {},
   "source": [
    "**break**  \n",
    "用来打破最小循环(直接跳出整个循环)  \n",
    "**continue**  \n",
    "跳出本次循环  \n",
    "**pass**  \n",
    "占位语句, 不做任何操作"
   ]
  },
  {
   "cell_type": "code",
   "execution_count": null,
   "metadata": {},
   "outputs": [],
   "source": []
  }
 ],
 "metadata": {
  "interpreter": {
   "hash": "91ddeff4efddff55e745e51be0c20c1315403c30f98aad391e9c1e6662c4a336"
  },
  "kernelspec": {
   "display_name": "Python 3.7.11 ('CADLab')",
   "language": "python",
   "name": "python3"
  },
  "language_info": {
   "codemirror_mode": {
    "name": "ipython",
    "version": 3
   },
   "file_extension": ".py",
   "mimetype": "text/x-python",
   "name": "python",
   "nbconvert_exporter": "python",
   "pygments_lexer": "ipython3",
   "version": "3.7.11"
  },
  "orig_nbformat": 4
 },
 "nbformat": 4,
 "nbformat_minor": 2
}
