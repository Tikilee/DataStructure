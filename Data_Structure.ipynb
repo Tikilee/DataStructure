{
 "cells": [
  {
   "cell_type": "markdown",
   "metadata": {},
   "source": [
    "# 0. Introduction\n",
    "**1. 数据结构三要素**\n",
    "* 数据的逻辑结构: 数据元素间的逻辑关系\n",
    "    - 线性结构: \n",
    "        - 一般线性表\n",
    "        - 受限线性表(队, 栈, 串), 线性表推广(数组, 广义表)\n",
    "        - 非线性结构: 集合, 树(一般树, 二叉树), 图(有向图, 无向图)\n",
    "* 数据的存储结构: 数据结构在计算机中的表示(映像), 又称物理结构\n",
    "    - 顺序存储: 将逻辑上相邻的元素存储在物理位置也相邻的存储单元中\n",
    "    - 链式存储: 不要求逻辑相邻元素物理位置也相邻, 借助指针来表示元素间的逻辑关系\n",
    "    - 索引存储: 存储信息同时, 额外建立索引表\n",
    "    - 散列存储: hash存储\n",
    "* 数据的运算: 包括运算的定义和实现\n",
    "\n",
    "**2. 算法和算法评价**\n",
    "* 算法(Algorithm): 对特定问题求解步骤的一种描述, 是指令的有限序列\n",
    "    - 算法具有5个特性\n",
    "        - 有穷性\n",
    "        - 确定性\n",
    "        - 可行性\n",
    "        - 输入\n",
    "        - 输出\n",
    "    - 好的算法应该考虑达到以下目标\n",
    "        - 正确性\n",
    "        - 可读性\n",
    "        - 健壮性: 输入非法数据能适当做出反应或进行处理, 而不会产生莫名其妙的输出结果\n",
    "        - 效率与低存储量需求(时间+空间)\n",
    "* 算法效率度量\n",
    "    - 时间复杂度\n",
    "    - 空间复杂度\n",
    " "
   ]
  },
  {
   "cell_type": "markdown",
   "metadata": {},
   "source": [
    "# 1. List\n",
    "* 线性表: 具有相同数据类型的n个数据元素的有限序列\n",
    "    - 顺序存储: 顺序表\n",
    "    - 链式存储: 单链表, 双链表, 循环链表, 静态链表"
   ]
  },
  {
   "cell_type": "markdown",
   "metadata": {},
   "source": [
    "## 1.1 线性表的顺序表示--顺序表\n",
    "* 一些操作\n",
    "    - 增加(插入): 元素插入后后半部分元素后挪\n",
    "    - 删除\n",
    "    - 按值查找: 查找第一个元素值为e的元素并返回位序"
   ]
  },
  {
   "cell_type": "markdown",
   "metadata": {},
   "source": [
    "## 1.2 线性表的链式表示--链表\n"
   ]
  },
  {
   "cell_type": "markdown",
   "metadata": {},
   "source": [
    "### 1.2.1 单链表\n",
    "* 对每个Node, data用来存放数据信息, next指针指向下一个Node  \n",
    "\n",
    "    | data  |  next   |  \n",
    "\n",
    "* 空表具有一个头结点, 头结点指针指向None\n",
    "    - 判空条件: 头结点指向None\n",
    "* 时间复杂度\n",
    "    - 按值/序号查找复杂度O(n)\n",
    "    - 插入和删除O(n), 主要耗时在查找, 插入删除本身只为O(1)\n",
    "    - 若对<font color=#ffbe0b>给定结点</font>进行插入和删除, <font color=#ffbe0b>把前插变后插</font>, O(1)\n",
    "        - 插入: 设插入结点为s, 要将s插入p前, 先将s插入p后, 再将两结点的值互换\n",
    "        - 删除: 设删除结点为p, 后继结点为q, 将两结点值互换, 再删除q"
   ]
  },
  {
   "cell_type": "code",
   "execution_count": 137,
   "metadata": {},
   "outputs": [
    {
     "name": "stdout",
     "output_type": "stream",
     "text": [
      "3\n",
      "3 None\n",
      "4 None\n",
      "4 0\n"
     ]
    }
   ],
   "source": [
    "class LNode:\n",
    "    def __init__(self, value):\n",
    "        self.data = value\n",
    "        self.next = None\n",
    "        \n",
    "class LinkList_HeadInsert:\n",
    "    def __init__(self):\n",
    "        self.HeadNode = LNode(None)\n",
    "    \n",
    "    def add(self, item):\n",
    "        NewNode = LNode(item)\n",
    "        # 新节点指针指向头结点指针指向的结点\n",
    "        NewNode.next = self.HeadNode.next\n",
    "        # 头结点指针指向新节点\n",
    "        self.HeadNode.next = NewNode\n",
    "    \n",
    "    def size(self):\n",
    "        count = 0\n",
    "        node = self.HeadNode\n",
    "        while node.next is not None:\n",
    "            count += 1\n",
    "            node = node.next\n",
    "        return count\n",
    "    \n",
    "    def search_value(self, value): # 按值查找并返回idx\n",
    "        count = 0\n",
    "        node = self.HeadNode\n",
    "        while node.next is not None:\n",
    "            count += 1\n",
    "            node = node.next\n",
    "            if node.data == value:\n",
    "                return count\n",
    "        return None\n",
    "    \n",
    "    def search_idx(self, idx): # 按位查找并返回value\n",
    "        if idx > self.size():\n",
    "            return None\n",
    "        count = 0\n",
    "        node = self.HeadNode\n",
    "        while node.next is not None and count < idx:\n",
    "            count += 1\n",
    "            node = node.next\n",
    "        return node.data\n",
    "    \n",
    "    def insert(self, value, idx): # 将新节点插入第idx个位置(前插)\n",
    "        assert idx < self.size(), \"index exceeds list length\"\n",
    "        count = 0\n",
    "        node = self.HeadNode\n",
    "        while count < idx - 1:\n",
    "            count += 1\n",
    "            node = node.next\n",
    "        back_node = node.next\n",
    "        new_node = LNode(value)\n",
    "        node.next = new_node\n",
    "        new_node.next = back_node \n",
    "        \n",
    "    def remove(self, idx):\n",
    "        assert idx < self.size(), \"index exceeds list length\"\n",
    "        count = 0\n",
    "        node = self.HeadNode\n",
    "        while count < idx - 1:\n",
    "            count += 1\n",
    "            node = node.next  \n",
    "        remove_node = node.next\n",
    "        back_node = remove_node.next\n",
    "        node.next = back_node\n",
    "    \n",
    "head_list = LinkList_HeadInsert()\n",
    "head_list.add(2)\n",
    "head_list.add(4)\n",
    "head_list.add(6)\n",
    "print(head_list.size())\n",
    "print(head_list.search_value(2), head_list.search_value(10))\n",
    "print(head_list.search_idx(2), head_list.search_idx(4))\n",
    "head_list.insert(value=0, idx=1)\n",
    "print(head_list.size(), head_list.search_idx(1))\n",
    "\n",
    "        \n",
    "class LinkList_TailInsert:\n",
    "    def __init__(self):\n",
    "        # 初始化时头结点和尾结点相同\n",
    "        self.HeadNode = LNode(None)\n",
    "        # 为使每次增加结点时不需要遍历结点拿到尾结点信息, 故增加尾结点指针\n",
    "        self.TailNode = self.HeadNode \n",
    "        # 或者不要尾结点, 只要尾指针\n",
    "        # self.rear = self.HeadNode\n",
    "    \n",
    "    def add(self, item):\n",
    "        NewNode = LNode(item)\n",
    "        # 尾结点指针指向新结点\n",
    "        self.TailNode.next = NewNode\n",
    "        # 尾结点赋值为该新结点\n",
    "        self.TailNode = NewNode\n",
    "        \n",
    "tail_list = LinkList_TailInsert()\n",
    "tail_list.add(1)\n",
    "tail_list.add(2)\n",
    "tail_list.add(3)\n",
    "# print(tail_list.HeadNode.next.data)"
   ]
  },
  {
   "cell_type": "code",
   "execution_count": 138,
   "metadata": {},
   "outputs": [
    {
     "name": "stdout",
     "output_type": "stream",
     "text": [
      "6\n",
      "True\n",
      "False\n",
      "True\n",
      "7\n",
      "6\n",
      "5\n",
      "4\n",
      "False\n"
     ]
    }
   ],
   "source": [
    "class Node:\n",
    "    def __init__(self,initdata):\n",
    "        self.data = initdata\n",
    "        self.next = None\n",
    "\n",
    "    def getData(self):\n",
    "        return self.data\n",
    "\n",
    "    def getNext(self):\n",
    "        return self.next\n",
    "\n",
    "    def setData(self,newdata):\n",
    "        self.data = newdata\n",
    "\n",
    "    def setNext(self,newnext):\n",
    "        self.next = newnext\n",
    "\n",
    "\n",
    "class UnorderedList:\n",
    "\n",
    "    def __init__(self):\n",
    "        self.head = None\n",
    "\n",
    "    def isEmpty(self):\n",
    "        return self.head == None\n",
    "\n",
    "    def add(self,item):\n",
    "        temp = Node(item)\n",
    "        temp.setNext(self.head)\n",
    "        self.head = temp\n",
    "\n",
    "    def size(self):\n",
    "        current = self.head\n",
    "        count = 0\n",
    "        while current != None:\n",
    "            count = count + 1\n",
    "            current = current.getNext()\n",
    "\n",
    "        return count\n",
    "\n",
    "    def search(self,item):\n",
    "        current = self.head\n",
    "        found = False\n",
    "        while current != None and not found:\n",
    "            if current.getData() == item:\n",
    "                found = True\n",
    "            else:\n",
    "                current = current.getNext()\n",
    "\n",
    "        return found\n",
    "\n",
    "    def remove(self,item):\n",
    "        current = self.head\n",
    "        previous = None\n",
    "        found = False\n",
    "        while not found:\n",
    "            if current.getData() == item:\n",
    "                found = True\n",
    "            else:\n",
    "                previous = current\n",
    "                current = current.getNext()\n",
    "\n",
    "        if previous == None:\n",
    "            self.head = current.getNext()\n",
    "        else:\n",
    "            previous.setNext(current.getNext())\n",
    "\n",
    "mylist = UnorderedList()\n",
    "\n",
    "mylist.add(31)\n",
    "mylist.add(77)\n",
    "mylist.add(17)\n",
    "mylist.add(93)\n",
    "mylist.add(26)\n",
    "mylist.add(54)\n",
    "\n",
    "print(mylist.size())\n",
    "print(mylist.search(93))\n",
    "print(mylist.search(100))\n",
    "\n",
    "mylist.add(100)\n",
    "print(mylist.search(100))\n",
    "print(mylist.size())\n",
    "\n",
    "mylist.remove(54)\n",
    "print(mylist.size())\n",
    "mylist.remove(93)\n",
    "print(mylist.size())\n",
    "mylist.remove(31)\n",
    "print(mylist.size())\n",
    "print(mylist.search(93))\n"
   ]
  },
  {
   "cell_type": "code",
   "execution_count": 139,
   "metadata": {},
   "outputs": [
    {
     "name": "stdout",
     "output_type": "stream",
     "text": [
      "6\n",
      "True\n",
      "False\n"
     ]
    }
   ],
   "source": [
    "class OrderedList:\n",
    "    def __init__(self):\n",
    "        self.head = None\n",
    "\n",
    "    def search(self,item):\n",
    "        current = self.head\n",
    "        found = False\n",
    "        stop = False\n",
    "        while current != None and not found and not stop:\n",
    "            if current.getData() == item:\n",
    "                found = True\n",
    "            else:\n",
    "                if current.getData() > item:\n",
    "                    stop = True\n",
    "                else:\n",
    "                    current = current.getNext()\n",
    "\n",
    "        return found\n",
    "\n",
    "    def add(self,item):\n",
    "        current = self.head\n",
    "        previous = None\n",
    "        stop = False\n",
    "        while current != None and not stop:\n",
    "            if current.getData() > item:\n",
    "                stop = True\n",
    "            else:\n",
    "                previous = current\n",
    "                current = current.getNext()\n",
    "\n",
    "        temp = Node(item)\n",
    "        if previous == None:\n",
    "            temp.setNext(self.head)\n",
    "            self.head = temp\n",
    "        else:\n",
    "            temp.setNext(current)\n",
    "            previous.setNext(temp)\n",
    "\n",
    "    def isEmpty(self):\n",
    "        return self.head == None\n",
    "\n",
    "    def size(self):\n",
    "        current = self.head\n",
    "        count = 0\n",
    "        while current != None:\n",
    "            count = count + 1\n",
    "            current = current.getNext()\n",
    "\n",
    "        return count\n",
    "\n",
    "\n",
    "mylist = OrderedList()\n",
    "mylist.add(31)\n",
    "mylist.add(77)\n",
    "mylist.add(17)\n",
    "mylist.add(93)\n",
    "mylist.add(26)\n",
    "mylist.add(54)\n",
    "\n",
    "print(mylist.size())\n",
    "print(mylist.search(93))\n",
    "print(mylist.search(100))\n"
   ]
  },
  {
   "cell_type": "markdown",
   "metadata": {},
   "source": [
    "### 1.2.2 双链表\n",
    "* 双链表结点有两个指针prior和next, 分别指向前继结点和后继结点  \n",
    "\n",
    "    | prior | data | next |  \n",
    "\n",
    "    "
   ]
  },
  {
   "cell_type": "code",
   "execution_count": 140,
   "metadata": {},
   "outputs": [],
   "source": [
    "class DNode:\n",
    "    def __init__(self, data):\n",
    "        self.data = data\n",
    "        self.prior = None\n",
    "        self.next = None\n",
    "        \n",
    "class DLinkList():\n",
    "    def __init__(self, set_recurrence=False):\n",
    "        self.HeadNode = DNode(None)\n",
    "        self.TailNode = self.HeadNode\n",
    "        if set_recurrence is True:\n",
    "            self.set_recurrence()\n",
    "        \n",
    "    def set_recurrence(self):\n",
    "        self.TailNode.next = self.HeadNode\n",
    "        self.HeadNode.prior = self.TailNode\n",
    "        \n",
    "    def add(self, value):\n",
    "        new_node = DNode(value)\n",
    "        self.TailNode.next = new_node\n",
    "        new_node.prior = self.TailNode\n",
    "        self.TailNode = new_node\n",
    "        \n",
    "    def size(self):\n",
    "        count = 0\n",
    "        node = self.HeadNode\n",
    "        while node.next is not None:\n",
    "            count += 1 \n",
    "            node = node.next\n",
    "        return count\n",
    "        \n",
    "    # def insert(self, idx):\n",
    "        \n",
    "        \n",
    "    # def remove(self ,idx):\n",
    "        "
   ]
  },
  {
   "cell_type": "markdown",
   "metadata": {},
   "source": [
    "### 1.2.3 循环链表\n",
    "* 单链表\n",
    "    - 尾指针指向头结点\n",
    "    - 判空条件: 头尾结点是否相等/头结点指针是否等于头指针 (HeadNode.next == HeadNode)\n",
    "* 双链表\n",
    "    - 尾结点next指针指向头结点, 头结点prior指针指向尾结点\n",
    "    - 判空条件: (HeadNode.next == HeadNode) and (HeadNode.prior == HeadNode)  \n",
    "        或者直接(HeadNode == TailNode)?\n",
    "                "
   ]
  },
  {
   "cell_type": "markdown",
   "metadata": {},
   "source": [
    "### 1.2.4 静态链表\n",
    "* 借助数组来描述线性表的链式存储结构"
   ]
  },
  {
   "cell_type": "markdown",
   "metadata": {},
   "source": [
    "# 2. Stack\n",
    "* 定义: 只允许在一端进行插入或删除操作的线性表\n",
    "    - 栈顶(Top): 线性表允许插入删除的那一端\n",
    "    - 栈底(Bottle): 不允许插入删除的那一端\n",
    "    - 空栈: 不含任何元素的空表\n",
    "* 操作特性: 后进先出 Last In First Out\n",
    "* 基本操作\n",
    "    - InitStack\n",
    "    - IsEmpty: 判空\n",
    "    - Push: 进栈\n",
    "    - Pop: 出栈\n",
    "    - GetTop: 读取栈顶元素\n",
    "    - DestroyStack"
   ]
  },
  {
   "cell_type": "markdown",
   "metadata": {},
   "source": [
    "## 2.1 栈的顺序存储--顺序栈\n",
    "* 可以理解为只在末端增删的list"
   ]
  },
  {
   "cell_type": "code",
   "execution_count": null,
   "metadata": {},
   "outputs": [],
   "source": [
    "class Stack:\n",
    "    def __init__(self):\n",
    "        self.items = []\n",
    "        \t\n",
    "    def isEmpty(self):\n",
    "        return self.items == []\n",
    "\n",
    "    def push(self, item):\n",
    "        self.items.insert(0,item)\n",
    "\n",
    "    def pop(self):\n",
    "        return self.items.pop(0)\n",
    "\n",
    "    def peek(self):\n",
    "        return self.items[0]\n",
    "\n",
    "    def size(self):\n",
    "        return len(self.items)\n",
    "\n",
    "s = Stack()"
   ]
  },
  {
   "cell_type": "markdown",
   "metadata": {},
   "source": [
    "## 2.2 栈的链式存储--链栈\n",
    "* 采用单链表实现, 规定所有操作在表头进行\n",
    "* 规定链栈没有头结点, LHead指向栈顶元素"
   ]
  },
  {
   "cell_type": "code",
   "execution_count": null,
   "metadata": {},
   "outputs": [],
   "source": []
  },
  {
   "cell_type": "markdown",
   "metadata": {},
   "source": [
    "# 3. Queue\n",
    "* 定义: 只允许在表的一端进行插入, 在另一端进行删除的线性表\n",
    "    - 队首(Front): 允许删除的一端\n",
    "    - 队尾(Rear): 允许插入的一端\n",
    "    - 空队列: 不含任何元素的空表\n",
    "* 操作特性: 先进先出 First In First Out\n",
    "* 基本操作\n",
    "    - InitQueue\n",
    "    - IsEmpty\n",
    "    - EnQueue: 入队, 从队尾入\n",
    "    - DeQueue: 出队, 从队首出\n",
    "    - GetHead: 读队首元素\n"
   ]
  },
  {
   "cell_type": "markdown",
   "metadata": {},
   "source": [
    "## 3.1 队列的顺序存储: \n",
    "* 设置front, rear两个指针指向队首队尾"
   ]
  },
  {
   "cell_type": "markdown",
   "metadata": {},
   "source": [
    "## 3.2 队列的链式存储--链队列\n",
    "* 一个同时带有队头指针和队尾指针的单链表. 头指针指向队头结点, 尾指针指向队尾结点"
   ]
  },
  {
   "cell_type": "markdown",
   "metadata": {},
   "source": [
    "# 4. String"
   ]
  },
  {
   "cell_type": "markdown",
   "metadata": {},
   "source": [
    "# 5. Tree\n",
    "* 定义: n(n>0)个结点的有限集. 当n=0时成为空树. 根是一种<font color=#ffbe0b>递归</font>的数据结构  \n",
    "    任意一棵非空树应该满足\n",
    "    - 有且只有一个根结点\n",
    "    - n>1时, 其余结点可以分为m(m>0)个互不相交的有限集, 每个有限集本身又是一棵树, 被称为根的子树\n",
    "* 基本术语\n",
    "    - 祖先-子孙 双亲-孩子 兄弟-堂兄弟\n",
    "    - 结点的度: 结点的孩子数  \n",
    "        树的度: 结点的最大度数\n",
    "    - 分支/非终端结点: 度大于0的结点  \n",
    "        叶子/终端结点: 度为0的结点\n",
    "    - 结点的层次: 根结点为第一层, 根的子结点为第二层, .... 同一层的结点互为堂兄弟.\n",
    "        结点的深度: 从根结点开始自顶向下累加  \n",
    "        结点的高度: 从叶结点开始自底向上累加  \n",
    "        树的高度(深度): 树中结点的最大层数  \n",
    "    - 有序树: 树中结点各子树从左到右是有次序的  \n",
    "        无序树: 无次序\n",
    "    - 路径: 两个结点之间的路径由这两个结点经过的结点序列构成, 而路径长度是路径所经过的边的个数(路径是从上往下的)\n",
    "    - 森林: m棵不相交的树的集合\n",
    "* 树的性质\n",
    "    - 树中的结点数等于所有结点的度数加1\n",
    "    - 待补充"
   ]
  },
  {
   "cell_type": "markdown",
   "metadata": {},
   "source": [
    "## 5.1 二叉树\n",
    "* 定义: 有序树, 每个结点至多只有两棵子树(即不存在度大于2的结点)\n",
    "* 特殊二叉树\n",
    "    - 满二叉树: 树中每层都满结点\n",
    "    - 完全二叉树: 按从上到下从左到右对树结点进行编号, 能与满二叉树编号一一对应(即先填左子树再填右子树)\n",
    "    - 二叉排序树: 左子树所有结点关键字均小于根结点关键字; 右子树均大于; 左右子树又各是一棵二叉排序树\n",
    "    - 平衡二叉树: 树上任一结点的左子树和右子树的深度之差不超过1(是否等价于所有叶子结点的高度之差不超过1?)\n"
   ]
  },
  {
   "cell_type": "markdown",
   "metadata": {},
   "source": [
    "### 5.1.1 二叉树的顺序存储结构\n",
    "* 指用一组地址连续的存储单元依次自上而下、从左至右存储完全二叉树上的结点元素, 即完全二叉树上编号为i的元素存储在一维数组下标为i-1的分量中\n",
    "* 适用于满二叉树和完全二叉树  \n",
    "<img src=\"img/Data_Structure/smalltree.png\" width = \"25%\" />  \n"
   ]
  },
  {
   "cell_type": "code",
   "execution_count": 141,
   "metadata": {},
   "outputs": [
    {
     "name": "stdout",
     "output_type": "stream",
     "text": [
      "Root Node is a\n",
      "Left subtree is ['b', ['d', [], []], ['e', [], []]]\n",
      "Right subtree is ['c', ['f', [], []], []]\n",
      "Left subtree root node is b\n",
      "Left subtree's left subtree is ['d', [], []]\n"
     ]
    }
   ],
   "source": [
    "myTree = ['a',   #root\n",
    "          ['b',  #left subtree\n",
    "            ['d', [], []],\n",
    "            ['e', [], []] ],\n",
    "          ['c',  #right subtree\n",
    "            ['f', [], []],\n",
    "            [] ]\n",
    "          ]\n",
    "print('Root Node is', myTree[0])\n",
    "print('Left subtree is', myTree[1])\n",
    "print('Right subtree is',myTree[2])\n",
    "print('Left subtree root node is', myTree[1][0])\n",
    "print('Left subtree\\'s left subtree is', myTree[1][1])"
   ]
  },
  {
   "cell_type": "code",
   "execution_count": 142,
   "metadata": {},
   "outputs": [
    {
     "name": "stdout",
     "output_type": "stream",
     "text": [
      "[5, [4, [], []], []]\n",
      "[3, [9, [4, [], []], []], [7, [], [6, [], []]]]\n",
      "[3, [9, [11, [4, [], []], []], []], [7, [], [6, [], []]]]\n",
      "[6, [], []]\n"
     ]
    }
   ],
   "source": [
    "def BinaryTree(r):\n",
    "    return [r, [], []]\n",
    "\n",
    "def insertLeft(root,newBranch):\n",
    "    t = root.pop(1)\n",
    "    if len(t) > 1:\n",
    "        root.insert(1,[newBranch,t,[]])\n",
    "    else:\n",
    "        root.insert(1,[newBranch, [], []])\n",
    "    return root\n",
    "\n",
    "def insertRight(root,newBranch):\n",
    "    t = root.pop(2)\n",
    "    if len(t) > 1:\n",
    "        root.insert(2,[newBranch,[],t])\n",
    "    else:\n",
    "        root.insert(2,[newBranch,[],[]])\n",
    "    return root\n",
    "\n",
    "def getRootVal(root):\n",
    "    return root[0]\n",
    "\n",
    "def setRootVal(root,newVal):\n",
    "    root[0] = newVal\n",
    "\n",
    "def getLeftChild(root):\n",
    "    return root[1]\n",
    "\n",
    "def getRightChild(root):\n",
    "    return root[2]\n",
    "\n",
    "r = BinaryTree(3)\n",
    "insertLeft(r,4)\n",
    "insertLeft(r,5)\n",
    "insertRight(r,6)\n",
    "insertRight(r,7)\n",
    "l = getLeftChild(r)\n",
    "print(l)\n",
    "\n",
    "setRootVal(l,9)\n",
    "print(r)\n",
    "insertLeft(l,11)\n",
    "print(r)\n",
    "print(getRightChild(getRightChild(r)))"
   ]
  },
  {
   "cell_type": "markdown",
   "metadata": {},
   "source": [
    "### 5.1.2 二叉树的链式存储结构\n",
    "* 顺序存储的空间利用率较低, 一般采用链式存储结构, 用链表结点存储二叉树的每个结点\n",
    "* 二叉链表至少包含三个域: 数据域data, 左指针域lchild(指向左孩子), 右指针域rchild(指向右孩子)  \n",
    "    | lchild | data | rchild |"
   ]
  },
  {
   "cell_type": "code",
   "execution_count": 143,
   "metadata": {},
   "outputs": [],
   "source": [
    "class BiTNode:\n",
    "    def __init__(self, data): \n",
    "        self.data = data\n",
    "        self.lchild = None\n",
    "        self.rchild = None\n",
    "\n",
    "'''\n",
    "Node和Tree分离似乎难以进行迭代的操作?\n",
    "确实, 改变指针时不能像链表一样单对Node操作, 而要对该根节点的树整体操作\n",
    "\n",
    "想实现的操作:\n",
    "1. 插入结点\n",
    "2. 删除结点\n",
    "'''\n",
    "class BiTree:\n",
    "    def __init__(self):\n",
    "        self.RootNode = BiTNode(None)\n",
    "        \n",
    "    def insertLeft(self, key):\n",
    "        new_tree = BiTree(key)\n",
    "        if self.RootNode is None:\n",
    "            self.RootNode.lchild = new_tree\n",
    "        else:\n",
    "            new_tree.lchild = self.RootNode.lchild\n",
    "            self.RootNode.lchild = new_tree\n",
    "         "
   ]
  },
  {
   "cell_type": "code",
   "execution_count": 144,
   "metadata": {},
   "outputs": [
    {
     "name": "stdout",
     "output_type": "stream",
     "text": [
      "a\n",
      "None\n",
      "<__main__.BinaryTree object at 0x7f833638d690>\n",
      "b\n",
      "<__main__.BinaryTree object at 0x7f83364f8850>\n",
      "c\n",
      "d\n",
      "b\n"
     ]
    }
   ],
   "source": [
    "class BinaryTree:\n",
    "    def __init__(self, data):\n",
    "        self.data = data\n",
    "        self.leftChild = None # 这里的指针指的是Tree而非Node\n",
    "        self.rightChild = None\n",
    "\n",
    "    def insertLeft(self,newNode):\n",
    "        if self.leftChild == None:\n",
    "            self.leftChild = BinaryTree(newNode)\n",
    "        else:\n",
    "            t = BinaryTree(newNode)\n",
    "            t.leftChild = self.leftChild\n",
    "            self.leftChild = t\n",
    "\n",
    "    def insertRight(self,newNode):\n",
    "        if self.rightChild == None:\n",
    "            self.rightChild = BinaryTree(newNode)\n",
    "        else:\n",
    "            t = BinaryTree(newNode)\n",
    "            t.rightChild = self.rightChild\n",
    "            self.rightChild = t\n",
    "\n",
    "    def getRightChild(self):\n",
    "        return self.rightChild\n",
    "\n",
    "    def getLeftChild(self):\n",
    "        return self.leftChild\n",
    "\n",
    "    def setRootVal(self, data):\n",
    "        self.data = data\n",
    "\n",
    "    def getRootVal(self):\n",
    "        return self.data\n",
    "\n",
    "\n",
    "r = BinaryTree('a')\n",
    "print(r.getRootVal())\n",
    "print(r.getLeftChild())\n",
    "r.insertLeft('b')\n",
    "print(r.getLeftChild())\n",
    "print(r.getLeftChild().getRootVal())\n",
    "r.insertRight('c')\n",
    "print(r.getRightChild())\n",
    "print(r.getRightChild().getRootVal())\n",
    "r.insertLeft('d')\n",
    "print(r.getLeftChild().getRootVal())\n",
    "print(r.getLeftChild().getLeftChild().getRootVal())"
   ]
  },
  {
   "cell_type": "markdown",
   "metadata": {},
   "source": [
    "## 5.2 二叉树的遍历 Binary Tree Traversal\n",
    "* 指按某条搜索路径访问树中的每个结点, 使得每个结点均被访问且只访问一次\n",
    "* 由遍历序列构造二叉树\n",
    "    - 唯一确定\n",
    "        - 先序序列 + 中序序列 \n",
    "        - 中序序列 + 后序序列\n",
    "        - 中序序列 + 层序序列\n",
    "    - 不能唯一确定\n",
    "        - 先序序列 + 后序序列"
   ]
  },
  {
   "cell_type": "markdown",
   "metadata": {},
   "source": [
    "### 5.2.1 递归遍历(深度优先遍历)\n",
    "* 先序: 从根节点找起\n",
    "* 中序: 从最左的叶子结点找起, LNR的顺序\n",
    "* 后序: 从最左的叶子结点找起, LRN的顺序\n",
    "<img src=\"img/Data_Structure/traversal.png\" width = \"80%\"  />  "
   ]
  },
  {
   "cell_type": "code",
   "execution_count": 145,
   "metadata": {},
   "outputs": [
    {
     "name": "stdout",
     "output_type": "stream",
     "text": [
      "B\n"
     ]
    }
   ],
   "source": [
    "# build the tree as figure above shown\n",
    "myTree = BinaryTree('A')\n",
    "myTree.insertLeft('B')\n",
    "myTree.insertRight('C')\n",
    "myTree.getLeftChild().insertLeft('D')\n",
    "myTree.getLeftChild().insertRight('E')\n",
    "print(myTree.getLeftChild().getRootVal())"
   ]
  },
  {
   "cell_type": "markdown",
   "metadata": {},
   "source": [
    "**先序遍历 PreOrder**\n",
    "* <font color=#ffbe0b>N</font>LR\n",
    "* 若二叉树为空, 则无操作, 否则\n",
    "    - 访问根节点\n",
    "    - 先序遍历左子树\n",
    "    - 先序遍历右子树"
   ]
  },
  {
   "cell_type": "code",
   "execution_count": 146,
   "metadata": {},
   "outputs": [
    {
     "name": "stdout",
     "output_type": "stream",
     "text": [
      "A B D E C "
     ]
    }
   ],
   "source": [
    "def preorder(tree):\n",
    "    if tree != None:\n",
    "        print(tree.getRootVal(), end=' ')\n",
    "        preorder(tree.getLeftChild())\n",
    "        preorder(tree.getRightChild())\n",
    "        \n",
    "preorder(myTree)"
   ]
  },
  {
   "cell_type": "markdown",
   "metadata": {},
   "source": [
    "**中序遍历 InOrder** \n",
    "* L<font color=#ffbe0b>N</font>R\n",
    "* 若二叉树为空, 则无操作, 否则 \n",
    "    - 中序遍历左子树\n",
    "    - 访问根节点\n",
    "    - 中序遍历右子树"
   ]
  },
  {
   "cell_type": "code",
   "execution_count": 147,
   "metadata": {},
   "outputs": [
    {
     "name": "stdout",
     "output_type": "stream",
     "text": [
      "D B E A C "
     ]
    }
   ],
   "source": [
    "def inorder(tree):\n",
    "  if tree != None:\n",
    "      inorder(tree.getLeftChild())\n",
    "      print(tree.getRootVal(), end=' ')\n",
    "      inorder(tree.getRightChild())\n",
    "      \n",
    "inorder(myTree)"
   ]
  },
  {
   "cell_type": "markdown",
   "metadata": {},
   "source": [
    "**后序遍历 PostOrder**\n",
    "* LR<font color=#ffbe0b>N</font>\n",
    "* 若二叉树为空, 则无操作, 否则 \n",
    "    - 后序遍历左子树\n",
    "    - 后序遍历右子树\n",
    "    - 访问根节点"
   ]
  },
  {
   "cell_type": "code",
   "execution_count": 148,
   "metadata": {},
   "outputs": [
    {
     "name": "stdout",
     "output_type": "stream",
     "text": [
      "D E B C A "
     ]
    }
   ],
   "source": [
    "def postorder(tree):\n",
    "  if tree != None:\n",
    "      postorder(tree.getLeftChild())\n",
    "      postorder(tree.getRightChild())\n",
    "      print(tree.getRootVal(), end=' ')\n",
    "      \n",
    "postorder(myTree)"
   ]
  },
  {
   "cell_type": "markdown",
   "metadata": {},
   "source": [
    "### 5.2.2 非递归遍历(广度优先遍历)\n",
    "* 层次遍历"
   ]
  },
  {
   "cell_type": "markdown",
   "metadata": {},
   "source": [
    "### 5.2.3 线索二叉树 Threaded Binary Tree\n",
    "* 线索化二叉树: 遍历一遍二叉树并把空指针改成指向前驱/后继的线索指针\n",
    "* 遍历二叉树能以一定规则将二叉树的结点排列成一个线性序列, 使得二叉树的每个结点(除首尾结点)都有一个直接前驱和直接后继\n",
    "* 含n个结点的树共有(n+1)个空指针, 可以用这(n+1)个空指针储存指向前驱或后继的指针\n",
    "* 规定: <font color=#ffbe0b>若无左子树, 令lchild指向其前驱结点; 若无右子树, 令rchild指向其后驱结点;</font> 并增加两个标识域标识指针表明是指向左右孩子还是前驱后继\n",
    "      \n",
    "    | lchild | ltag | data | rtag | rchild |  \n",
    "      \n",
    "    tag=0, 指向左右孩子; tag=1,指向前驱/后继\n",
    "* 在二叉树线索链表添加一个HeadNode,<font color=#ffbe0b>令HeadNode的lchild指向根节点, rchild指向中序遍历访问的最后一个结点; 令二叉树中序遍历的第一个结点lchild和最后一个结点的rchild指向头结点</font> <font color=#49b6ff>(此时(n+1)个空指针完全利用完毕)</font> "
   ]
  },
  {
   "cell_type": "markdown",
   "metadata": {},
   "source": [
    "**中序线索二叉树的构造**\n",
    "* tips: 附设指针pre指向刚访问过的结点, p指向正在访问的结点\n",
    "* 判断p的lchild是否为空, pre的rchild是否为空  \n",
    "<img src=\"img/Data_Structure/InThread.png\" width = \"50%\"  />  \n"
   ]
  },
  {
   "cell_type": "code",
   "execution_count": 149,
   "metadata": {},
   "outputs": [],
   "source": [
    "class ThreadNode:\n",
    "    def __init__(self, data):\n",
    "        self.data = data\n",
    "        self.lchild = None\n",
    "        self.rchild = None\n",
    "        self.ltag = 0\n",
    "        self.rtag = 0\n",
    "        \n",
    "class ThreadBiTree:\n",
    "    def __init__(self, data, is_root=False):\n",
    "        self.RootNode = ThreadNode(data)\n",
    "        if is_root:\n",
    "            # HeadNode该是树类还是结点类?\n",
    "            self.HeadNode = ThreadNode(None)\n",
    "            self.HeadNode.lchild = self.RootNode\n",
    "        \n",
    "    def insertLeft(self, key):\n",
    "        new_tree = ThreadBiTree(key)\n",
    "        if self.RootNode is None:\n",
    "            self.RootNode.lchild = new_tree\n",
    "        else:\n",
    "            new_tree.lchild = self.RootNode.lchild\n",
    "            self.RootNode.lchild = new_tree\n",
    "         \n",
    "    def insertRight(self, key):\n",
    "        new_tree = ThreadBiTree(key)\n",
    "        if self.RootNode is None:\n",
    "            self.RootNode.rchild = new_tree\n",
    "        else:\n",
    "            new_tree.rchild = self.RootNode.rchild\n",
    "            self.RootNode.rchild = new_tree\n",
    "            \n",
    "    def getRightChild(self):\n",
    "        return self.RootNode.rchild\n",
    "\n",
    "    def getLeftChild(self):\n",
    "        return self.RootNode.lchild\n",
    "\n",
    "    def setRootVal(self, data):\n",
    "        self.data = data\n",
    "\n",
    "    def getRootVal(self):\n",
    "        return self.RootNode.data\n",
    "    \n",
    "def InThread(tree: ThreadBiTree, pre: ThreadNode=None):\n",
    "    if pre is None:\n",
    "        pre = tree.HeadNode\n",
    "    if tree:\n",
    "        InThread(tree.getLeftChild(), pre)\n",
    "        # 左子树为空, 建立前驱线索\n",
    "        if tree.RootNode.lchild is None:\n",
    "            tree.RootNode.lchild = pre\n",
    "            tree.RootNode.ltag = 1\n",
    "        # 建立前驱结点的后继线索\n",
    "        if pre.rchild is None:\n",
    "            pre.rchild = tree\n",
    "            pre.rtag = 1\n",
    "        pre = tree.RootNode\n",
    "        InThread(tree.getRightChild(), pre)\n",
    "        \n",
    "myTree = ThreadBiTree('A', is_root=True)\n",
    "myTree.insertLeft('B')\n",
    "myTree.insertRight('C')\n",
    "myTree.getLeftChild().insertLeft('D')\n",
    "myTree.getLeftChild().insertRight('E')\n",
    "# print(myTree.getLeftChild().getRootVal())\n",
    "\n",
    "InThread(myTree)\n",
    "# bug exists\n",
    "# print(myTree.HeadNode.lchild., myTree.HeadNode.rchild.data)\n",
    "         "
   ]
  },
  {
   "cell_type": "markdown",
   "metadata": {},
   "source": [
    "## 5.3 树和森林"
   ]
  },
  {
   "cell_type": "markdown",
   "metadata": {},
   "source": [
    "## 5.4 树与二叉树的应用"
   ]
  },
  {
   "cell_type": "markdown",
   "metadata": {},
   "source": [
    "### 5.4.1 二叉排序树 Binary Search Tree(BST)\n",
    "* 若左子树非空, 左子树所有结点值均小于根结点  \n",
    "   若右子树非空, 右子树所有结点值均大于根结点  \n",
    "   左右子树各是一棵二叉排序树    \n",
    "* 对BST进行<font color=#ffbe0b>中序遍历</font> 能得到一个递增序列\n",
    "* 查找效率\n",
    "   - 最好时间复杂度: 平衡二叉树O(log2n)\n",
    "   - 最坏时间复杂度: 只有左/右孩子的单支树, 甚至直接转换成单链表, O(n)"
   ]
  },
  {
   "cell_type": "code",
   "execution_count": 150,
   "metadata": {},
   "outputs": [],
   "source": [
    "class BSTree():\n",
    "    pass\n",
    "\n",
    "class BinaryTree:\n",
    "    def __init__(self, data):\n",
    "        self.data = data\n",
    "        self.leftChild = None # 这里的指针指的是Tree而非Node\n",
    "        self.rightChild = None\n",
    "\n",
    "    def insertLeft(self,newNode):\n",
    "        if self.leftChild == None:\n",
    "            self.leftChild = BinaryTree(newNode)\n",
    "        else:\n",
    "            t = BinaryTree(newNode)\n",
    "            t.leftChild = self.leftChild\n",
    "            self.leftChild = t\n",
    "\n",
    "    def insertRight(self,newNode):\n",
    "        if self.rightChild == None:\n",
    "            self.rightChild = BinaryTree(newNode)\n",
    "        else:\n",
    "            t = BinaryTree(newNode)\n",
    "            t.rightChild = self.rightChild\n",
    "            self.rightChild = t\n",
    "\n",
    "    def getRightChild(self):\n",
    "        return self.rightChild\n",
    "\n",
    "    def getLeftChild(self):\n",
    "        return self.leftChild\n",
    "\n",
    "    def setRootVal(self, data):\n",
    "        self.data = data\n",
    "\n",
    "    def getRootVal(self):\n",
    "        return self.data"
   ]
  },
  {
   "cell_type": "markdown",
   "metadata": {},
   "source": [
    "**BST的查找**"
   ]
  },
  {
   "cell_type": "code",
   "execution_count": null,
   "metadata": {},
   "outputs": [],
   "source": [
    "def SearchBST(tree: BinaryTree, key: int):\n",
    "    while (tree is not None) and (key is not tree.getRootVal()):\n",
    "        if key < tree.getRootVal():\n",
    "            tree = tree.getLeftChild()\n",
    "        else:\n",
    "            tree = tree.getRightChild()\n",
    "    assert tree.getRootVal() is not None, \"key {} is not in this tree\".format('key')\n",
    "    return tree"
   ]
  },
  {
   "cell_type": "markdown",
   "metadata": {},
   "source": [
    "**BST的插入**\n",
    "* <font color=#ffbe0b>Notice: 插入只能插入在叶子结点或度为1的结点上, 不会插到树和子树的根节点上</font>\n",
    "* 判断当前结点是否为空(叶子结点的指针指向或空树), 是则插入,否则下一步\n",
    "* 判断当前结点的值和key值大小\n",
    "    - 小于, 递归插入左子树\n",
    "    - 大于, 递归插入右子树"
   ]
  },
  {
   "cell_type": "code",
   "execution_count": null,
   "metadata": {},
   "outputs": [],
   "source": [
    "def InsertBST(tree: BinaryTree, key: int):\n",
    "    if tree is None:\n",
    "        tree = BinaryTree(key)\n",
    "        return\n",
    "    elif key == tree.getRootVal():\n",
    "        print(\"Key {} is in this tree, Insert fails\".format(key))\n",
    "        return\n",
    "    elif key < tree.getRootVal():\n",
    "        return InsertBST(tree.getLeftChild(), key)\n",
    "    else:\n",
    "        return InsertBST(tree.getRightChild(), key)    "
   ]
  },
  {
   "cell_type": "markdown",
   "metadata": {},
   "source": [
    "**BST的构造**"
   ]
  },
  {
   "cell_type": "code",
   "execution_count": null,
   "metadata": {},
   "outputs": [],
   "source": [
    "def CreatBST(alist: list):\n",
    "    tree = BinaryTree(None)\n",
    "    for item in list:\n",
    "        InsertBST(tree, item)"
   ]
  },
  {
   "cell_type": "markdown",
   "metadata": {},
   "source": [
    "**BST的删除**\n",
    "* 分情况\n",
    "    - 被删除结点z是叶子结点: 直接删除\n",
    "    - 若z只有一棵左子树或右子树, 让z的子树成为z父结点的子树, 替代z的位置\n",
    "    - 若z有左右子树, 令z的直接后继(右子树in中序)或直接前驱(左子树in中序)替代z, 然后删除这个直接后继或前驱"
   ]
  },
  {
   "cell_type": "markdown",
   "metadata": {},
   "source": [
    "### 5.4.2 平衡二叉树 Balanced Binary Tree"
   ]
  },
  {
   "cell_type": "markdown",
   "metadata": {},
   "source": [
    "* 定义\n",
    "    - 左右子树各是平衡二叉树\n",
    "    - 左右子树的高度差绝对值不超过1"
   ]
  },
  {
   "cell_type": "markdown",
   "metadata": {},
   "source": [
    "**BBT的插入**"
   ]
  },
  {
   "cell_type": "markdown",
   "metadata": {},
   "source": [
    "**BBT的查找**"
   ]
  },
  {
   "cell_type": "markdown",
   "metadata": {},
   "source": [
    "# 6. Graph"
   ]
  },
  {
   "cell_type": "markdown",
   "metadata": {},
   "source": []
  }
 ],
 "metadata": {
  "interpreter": {
   "hash": "91ddeff4efddff55e745e51be0c20c1315403c30f98aad391e9c1e6662c4a336"
  },
  "kernelspec": {
   "display_name": "Python 3.7.11 ('CADLab')",
   "language": "python",
   "name": "python3"
  },
  "language_info": {
   "codemirror_mode": {
    "name": "ipython",
    "version": 3
   },
   "file_extension": ".py",
   "mimetype": "text/x-python",
   "name": "python",
   "nbconvert_exporter": "python",
   "pygments_lexer": "ipython3",
   "version": "3.7.11"
  },
  "orig_nbformat": 4
 },
 "nbformat": 4,
 "nbformat_minor": 2
}
