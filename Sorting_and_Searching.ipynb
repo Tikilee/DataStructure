{
 "cells": [
  {
   "cell_type": "markdown",
   "metadata": {},
   "source": [
    "# Searching"
   ]
  },
  {
   "cell_type": "code",
   "execution_count": null,
   "metadata": {},
   "outputs": [],
   "source": []
  },
  {
   "cell_type": "markdown",
   "metadata": {},
   "source": [
    "# Sorting\n",
    "<img src=\"img/Sorting_and_Searching/time_complexity.png\" width = \"800\" height = \"400\" alt=\"图片名称\" align=center />"
   ]
  },
  {
   "cell_type": "markdown",
   "metadata": {},
   "source": [
    "## 1. The Selection Sort"
   ]
  },
  {
   "cell_type": "markdown",
   "metadata": {},
   "source": [
    "### Easy Select Sort\n",
    "* 有序 | 待排 | 无序,  越往后循环长度越小, 越简单"
   ]
  },
  {
   "cell_type": "code",
   "execution_count": 19,
   "metadata": {},
   "outputs": [
    {
     "name": "stdout",
     "output_type": "stream",
     "text": [
      "[1, 2, 3, 4, 5, 6, 7, 8, 9, 10]\n"
     ]
    }
   ],
   "source": [
    "def EasySelectSort(sort_list):\n",
    "    for i in range(len(sort_list)):\n",
    "        for j in range(i + 1, len(sort_list)):\n",
    "            if sort_list[j] < sort_list[i]:\n",
    "                min = sort_list[j]\n",
    "                sort_list[j] = sort_list[i]\n",
    "                sort_list[i] = min\n",
    "    return sort_list\n",
    "                \n",
    "a = [10, 9, 3, 4, 5, 1, 7, 6, 8, 2]\n",
    "print(EasySelectSort(a)) "
   ]
  },
  {
   "cell_type": "markdown",
   "metadata": {},
   "source": [
    "### Heap Sort\n",
    "* 二叉树排序"
   ]
  },
  {
   "cell_type": "code",
   "execution_count": null,
   "metadata": {},
   "outputs": [],
   "source": []
  },
  {
   "cell_type": "markdown",
   "metadata": {},
   "source": [
    "## 2. The Insertion Sort"
   ]
  },
  {
   "cell_type": "markdown",
   "metadata": {},
   "source": [
    "### Direct Inserction\n",
    "* 有序 | 待排 | 无序, 与选择排序比起来有序数组越长插入越困难\n",
    "* 往前比较过程中需要边比较边移动元素\n",
    "* 适合基本有序和数据量不大的数据表"
   ]
  },
  {
   "cell_type": "code",
   "execution_count": 6,
   "metadata": {},
   "outputs": [
    {
     "name": "stdout",
     "output_type": "stream",
     "text": [
      "[1, 2, 3, 4, 5, 6, 7, 8, 9, 10]\n"
     ]
    }
   ],
   "source": [
    "def DirectInsertSort(sort_list):\n",
    "    if len(sort_list)<2:\n",
    "        return sort_list\n",
    "    for i in range(1, len(sort_list)):\n",
    "        for j in range(i, 0, -1):\n",
    "            if sort_list[j] < sort_list[j-1]:\n",
    "                temp = sort_list[j-1]\n",
    "                sort_list[j-1] = sort_list[j]\n",
    "                sort_list[j] = temp\n",
    "            else:\n",
    "                break\n",
    "    return sort_list\n",
    "\n",
    "a = [10, 9, 3, 4, 5, 1, 7, 6, 8, 2]\n",
    "print(DirectInsertSort(a))         \n",
    "                "
   ]
  },
  {
   "cell_type": "markdown",
   "metadata": {},
   "source": [
    "### Binary Inserction"
   ]
  },
  {
   "cell_type": "code",
   "execution_count": null,
   "metadata": {},
   "outputs": [],
   "source": [
    "# def BinaryInsertSort(sort_list):\n",
    "    "
   ]
  },
  {
   "cell_type": "markdown",
   "metadata": {},
   "source": [
    "### Shell Inserction \n",
    "* 按增量d分成n个子表进行直接插入排序, 排序完成后对全体进行直接插入排序\n",
    "* [n_1, n_2, ..., n_d, n_d+1, n_d+2, ...] -> [n_1, n_d+1], [n_2, n_d+2], ..."
   ]
  },
  {
   "cell_type": "code",
   "execution_count": null,
   "metadata": {},
   "outputs": [],
   "source": [
    "# def ShellSort(sort_list):\n",
    "#     mid = len(sort_list)//2\n",
    "#     while mid > 0:\n",
    "        "
   ]
  },
  {
   "cell_type": "markdown",
   "metadata": {},
   "source": [
    "## 3. The Exchange Sort"
   ]
  },
  {
   "cell_type": "markdown",
   "metadata": {},
   "source": [
    "### Bubble Sort\n",
    "* 第一遍遍历: 从后往前元素两两交换, 最小的元素被排在最前面; 或者从前往后, 最大的元素被排在最后\n",
    "* 第二遍遍历: 排除第一个元素, 继续进行第一步\n",
    "* n-1次遍历"
   ]
  },
  {
   "cell_type": "code",
   "execution_count": 7,
   "metadata": {},
   "outputs": [
    {
     "name": "stdout",
     "output_type": "stream",
     "text": [
      "[1, 2, 3, 4, 5, 6, 7, 8, 9, 10]\n"
     ]
    }
   ],
   "source": [
    "def BubbleSort(sort_list):\n",
    "    if len(sort_list)<2:\n",
    "        return sort_list\n",
    "    for length in range(len(sort_list), 0, -1):\n",
    "        for j in range(length - 1):\n",
    "            if sort_list[j] > sort_list[j+1]:\n",
    "                temp = sort_list[j]\n",
    "                sort_list[j] = sort_list[j+1]\n",
    "                sort_list[j+1] = temp\n",
    "    return sort_list\n",
    "\n",
    "a = [10, 9, 3, 4, 5, 1, 7, 6, 8, 2]    \n",
    "print(BubbleSort(a))"
   ]
  },
  {
   "cell_type": "markdown",
   "metadata": {},
   "source": [
    "### Quick Sort\n",
    "* 基于分治\n",
    "* 取任意元素(通常为首元素)作为pivot(指针)\n",
    "  一趟快排: 一趟排序后把排序表分为L[1, ..., k-1] < pivot和L[k+1, ..., n] > pivot;   \n",
    "    附设两指针i, j:   \n",
    "    (1) j从最右开始寻找第一个比pivot小的元素, 将两元素交换  \n",
    "    (2) 接着i从最左开始寻找第一个比pivot大的元素, 将两元素交换   \n",
    "    (3) 重复\n",
    "  每趟快排都递归进行\n",
    "* 复杂度分析: 划分对称时, 最好O(nlog2n); 基本有序或基本逆序时, 最坏O(n2)"
   ]
  },
  {
   "cell_type": "code",
   "execution_count": 21,
   "metadata": {},
   "outputs": [],
   "source": [
    "# def QuickSort(sort_list, low=None, high=None):\n",
    "#     if low is None:\n",
    "#         low = 0 \n",
    "#     if high is None:\n",
    "#         high = len(sort_list) - 1\n",
    "#     while low < high:\n",
    "#         while (sort_list[low] < sort_list[high]) and (low < high): # 跳出循环时pivot停在high\n",
    "#             high -= 1\n",
    "#         temp = sort_list[high]\n",
    "#         sort_list[high] = sort_list[low]\n",
    "#         sort_list[low] = temp\n",
    "#         while (sort_list[high] > sort_list[low]) and (low < high): # 跳出循环时pivot停在low\n",
    "#             low += 1\n",
    "#         temp = sort_list[low]\n",
    "#         sort_list[low] = sort_list[high]\n",
    "#         sort_list[high] = temp\n",
    "#     QuickSort(sort_list, 0, low-1)\n",
    "#     QuickSort(sort_list, low+1, high)\n",
    "#     return sort_list\n",
    "\n",
    "# a = [10, 9, 3, 4, 5, 1, 7, 6, 8, 2]    \n",
    "# print(QuickSort(a))"
   ]
  },
  {
   "cell_type": "code",
   "execution_count": 14,
   "metadata": {},
   "outputs": [
    {
     "name": "stdout",
     "output_type": "stream",
     "text": [
      "[17, 20, 26, 31, 44, 54, 55, 77, 93]\n"
     ]
    }
   ],
   "source": [
    "def quickSort(alist):\n",
    "   quickSortHelper(alist,0,len(alist)-1)\n",
    "\n",
    "def quickSortHelper(alist,first,last):\n",
    "   if first<last:\n",
    "\n",
    "       splitpoint = partition(alist,first,last)\n",
    "\n",
    "       quickSortHelper(alist,first,splitpoint-1)\n",
    "       quickSortHelper(alist,splitpoint+1,last)\n",
    "\n",
    "\n",
    "def partition(alist,first,last):\n",
    "   pivotvalue = alist[first]\n",
    "\n",
    "   leftmark = first+1\n",
    "   rightmark = last\n",
    "\n",
    "   done = False\n",
    "   while not done:\n",
    "\n",
    "       while leftmark <= rightmark and alist[leftmark] <= pivotvalue:\n",
    "           leftmark = leftmark + 1\n",
    "\n",
    "       while alist[rightmark] >= pivotvalue and rightmark >= leftmark:\n",
    "           rightmark = rightmark -1\n",
    "\n",
    "       if rightmark < leftmark:\n",
    "           done = True\n",
    "       else:\n",
    "           temp = alist[leftmark]\n",
    "           alist[leftmark] = alist[rightmark]\n",
    "           alist[rightmark] = temp\n",
    "\n",
    "   temp = alist[first]\n",
    "   alist[first] = alist[rightmark]\n",
    "   alist[rightmark] = temp\n",
    "\n",
    "\n",
    "   return rightmark\n",
    "\n",
    "alist = [54,26,93,17,77,31,44,55,20]\n",
    "quickSort(alist)\n",
    "print(alist)\n"
   ]
  },
  {
   "cell_type": "markdown",
   "metadata": {},
   "source": [
    "## Merge Sort\n",
    "* 将n个子表两两归并成n/2个子表(向上取整), 再继续归并直到成为一个有序表\n",
    "* 利用了归并的有序表的中位数特性, 归并时只拿中位数较小的子表右半边和中位数较大的子表左半边进行重新排序"
   ]
  },
  {
   "cell_type": "code",
   "execution_count": null,
   "metadata": {},
   "outputs": [],
   "source": [
    "def mergeSort(alist):\n",
    "    print(\"Splitting \",alist)\n",
    "    if len(alist)>1:\n",
    "        mid = len(alist)//2\n",
    "        lefthalf = alist[:mid]\n",
    "        righthalf = alist[mid:]\n",
    "\n",
    "        mergeSort(lefthalf)\n",
    "        mergeSort(righthalf)\n",
    "\n",
    "        i=0\n",
    "        j=0\n",
    "        k=0\n",
    "        while i < len(lefthalf) and j < len(righthalf):\n",
    "            if lefthalf[i] <= righthalf[j]:\n",
    "                alist[k]=lefthalf[i]\n",
    "                i=i+1\n",
    "            else:\n",
    "                alist[k]=righthalf[j]\n",
    "                j=j+1\n",
    "            k=k+1\n",
    "\n",
    "        while i < len(lefthalf):\n",
    "            alist[k]=lefthalf[i]\n",
    "            i=i+1\n",
    "            k=k+1\n",
    "\n",
    "        while j < len(righthalf):\n",
    "            alist[k]=righthalf[j]\n",
    "            j=j+1\n",
    "            k=k+1\n",
    "    print(\"Merging \",alist)\n",
    "\n",
    "alist = [54,26,93,17,77,31,44,55,20]\n",
    "mergeSort(alist)\n",
    "print(alist)"
   ]
  },
  {
   "cell_type": "markdown",
   "metadata": {},
   "source": [
    "## Base Sort"
   ]
  },
  {
   "cell_type": "markdown",
   "metadata": {},
   "source": []
  }
 ],
 "metadata": {
  "interpreter": {
   "hash": "91ddeff4efddff55e745e51be0c20c1315403c30f98aad391e9c1e6662c4a336"
  },
  "kernelspec": {
   "display_name": "Python 3.7.11 ('CADLab')",
   "language": "python",
   "name": "python3"
  },
  "language_info": {
   "codemirror_mode": {
    "name": "ipython",
    "version": 3
   },
   "file_extension": ".py",
   "mimetype": "text/x-python",
   "name": "python",
   "nbconvert_exporter": "python",
   "pygments_lexer": "ipython3",
   "version": "3.7.11"
  },
  "orig_nbformat": 4
 },
 "nbformat": 4,
 "nbformat_minor": 2
}
