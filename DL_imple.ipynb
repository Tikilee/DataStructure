{
 "cells": [
  {
   "cell_type": "markdown",
   "metadata": {},
   "source": [
    "# 1. CNN"
   ]
  },
  {
   "cell_type": "markdown",
   "metadata": {},
   "source": [
    "## 1.1 Operator Implementation by Numpy"
   ]
  },
  {
   "cell_type": "markdown",
   "metadata": {},
   "source": [
    "### 1.1.1 Conv"
   ]
  },
  {
   "cell_type": "code",
   "execution_count": 1,
   "metadata": {},
   "outputs": [],
   "source": [
    "import numpy as np\n",
    "\n",
    "def GussianKernel(kernel_size):\n",
    "    guassian = lambda x: 1/np.sqrt(2*np.pi)*np.exp(-1/2*x)\n",
    "    kernel = np.zeros((kernel_size, kernel_size))\n",
    "    for i in range(kernel_size):\n",
    "        for j in range(kernel_size):\n",
    "            kernel[i, j] = guassian(\n",
    "                (kernel_size/2 - i - 1/2)**2 + (kernel_size/2-j - 1/2)**2)\n",
    "    return kernel\n",
    "\n",
    "\n",
    "def Conv(inp, stride=1, kernel_size=1):\n",
    "    kernel = GussianKernel(kernel_size=1)\n",
    "    pass"
   ]
  },
  {
   "cell_type": "markdown",
   "metadata": {},
   "source": [
    "### 1.1.2 Pooling"
   ]
  },
  {
   "cell_type": "code",
   "execution_count": null,
   "metadata": {},
   "outputs": [],
   "source": [
    "import numpy as np\n",
    "\n",
    "def Pooling(input: np.array, stride: int = 2):\n",
    "    (B, C, H, W) = input.shape\n",
    "    output  = np.zeros((B, C, H//stride, W//stride))\n",
    "    for b in range(B):\n",
    "        for c in range(C):\n",
    "            for h in range(H//stride):\n",
    "                for w in range(W//stride):\n",
    "                    region = input[b, \n",
    "                                   c, \n",
    "                                   h*stride: h*stride + stride,\n",
    "                                   w*stride: w*stride + stride].reshape(-1)\n",
    "                    output[b, c, h, w] = np.max(region)\n",
    "    return output\n",
    "            "
   ]
  },
  {
   "cell_type": "markdown",
   "metadata": {},
   "source": [
    "## 1.2 Object Detection"
   ]
  },
  {
   "cell_type": "code",
   "execution_count": 2,
   "metadata": {},
   "outputs": [
    {
     "name": "stdout",
     "output_type": "stream",
     "text": [
      "[[4]\n",
      " [7]]\n"
     ]
    }
   ],
   "source": [
    "import numpy as np\n",
    "\n",
    "def box_iou(a, b):\n",
    "    \"\"\"\n",
    "    Args:\n",
    "        boxes1 (array[N, 4]): first set of boxes\n",
    "        boxes2 (array[M, 4]): second set of boxes\n",
    "    Returns:\n",
    "        array[N, M]: the NxM matrix containing the IoU values\n",
    "    \"\"\"\n",
    "    area = (b[:, 2] - b[:, 0]) * (b[:, 3] - b[:, 1])\n",
    "    iw = np.minimum(np.expand_dims(a[:, 2], axis=1), b[:, 2]) - np.maximum(\n",
    "        np.expand_dims(a[:, 0], 1), b[:, 0])\n",
    "    ih = np.minimum(np.expand_dims(a[:, 3], axis=1), b[:, 3]) - np.maximum(\n",
    "        np.expand_dims(a[:, 1], 1), b[:, 1])\n",
    "    iw = np.maximum(iw, 0)\n",
    "    ih = np.maximum(ih, 0)\n",
    "    ua = np.expand_dims(\n",
    "        (a[:, 2] - a[:, 0]) * (a[:, 3] - a[:, 1]), axis=1) + area - iw * ih\n",
    "    ua = np.maximum(ua, np.finfo(float).eps)\n",
    "    intersection = iw * ih\n",
    "    return intersection / ua\n",
    "\n",
    "a = np.array([\n",
    "    [1, 2, 3, 4],\n",
    "    [5, 6, 7, 7]\n",
    "    ])\n",
    "print(np.expand_dims(a[:, 3], axis=1))"
   ]
  },
  {
   "cell_type": "code",
   "execution_count": null,
   "metadata": {},
   "outputs": [],
   "source": [
    "def NMS(dets, thresh):\n",
    "    x1 = dets[:, 0]\n",
    "    y1 = dets[:, 1]\n",
    "    x2 = dets[:, 2]\n",
    "    y2 = dets[:, 3]\n",
    "    scores = dets[:, 4]\n",
    "    areas = (x2 - x1 + 1) * (y2 - y1 + 1)\n",
    "    order = scores.argsort()[::-1]\n",
    "\n",
    "\ttemp = []\n",
    "    while order.size > 0:\n",
    "        i = order[0]\n",
    "        temp.append(i)\n",
    "        xx1 = np.maximum(x1[i], x1[order[1:]])\n",
    "        yy1 = np.minimum(y1[i], y1[order[1:]])\n",
    "        xx2 = np.minimum(x2[i], x2[order[1:]])\n",
    "        yy2 = np.maximum(y2[i], y2[order[1:]])\n",
    "\n",
    "        w = np.maximum(0.0, xx2 - xx1 + 1)\n",
    "        h = np.maximum(0.0, yy2 - yy1 + 1)\n",
    "        inter = w * h\n",
    "        ovr = inter / (areas[i] + areas[order[1:]] - inter)\n",
    "\n",
    "        inds = np.where(ovr <= thresh)[0]\n",
    "\t\t\torder = order[inds + 1]\n",
    "    return temp\n",
    "\n",
    "\n",
    "dets = np.array([[310, 30, 420, 5, 0.6],\n",
    "                    [20, 20, 240, 210, 1],\n",
    "                    [70, 50, 260, 220, 0.8],\n",
    "                    [400, 280, 560, 360, 0.7]])\n",
    "thresh = 0.4\n",
    "keep_dets = NMS(dets, thresh)\n",
    "print(keep_dets)\n",
    "print(dets[keep_dets])"
   ]
  }
 ],
 "metadata": {
  "interpreter": {
   "hash": "91ddeff4efddff55e745e51be0c20c1315403c30f98aad391e9c1e6662c4a336"
  },
  "kernelspec": {
   "display_name": "Python 3.7.11 ('CADLab')",
   "language": "python",
   "name": "python3"
  },
  "language_info": {
   "codemirror_mode": {
    "name": "ipython",
    "version": 3
   },
   "file_extension": ".py",
   "mimetype": "text/x-python",
   "name": "python",
   "nbconvert_exporter": "python",
   "pygments_lexer": "ipython3",
   "version": "3.7.11"
  },
  "orig_nbformat": 4
 },
 "nbformat": 4,
 "nbformat_minor": 2
}
